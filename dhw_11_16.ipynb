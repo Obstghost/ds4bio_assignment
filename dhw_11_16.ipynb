{
 "cells": [
  {
   "cell_type": "markdown",
   "metadata": {},
   "source": [
    "# Github Homework"
   ]
  },
  {
   "cell_type": "markdown",
   "metadata": {},
   "source": [
    "**1. Name one purpose for github** \n",
    "\n",
    "<font color = pink> One purpose for github is to allow many people to work on a project together from anywhere in the world."
   ]
  },
  {
   "cell_type": "markdown",
   "metadata": {},
   "source": [
    "**2. Describe what is version control in your own words and how it could help you in your project**\n",
    "\n",
    "<font color = pink> Version control tracks the histroy of changes as people and teams collaborate on projects together and you can use branches to have different versions of your program. This could help in the projec when you want to add new features or code without changing the main code."
   ]
  },
  {
   "cell_type": "markdown",
   "metadata": {},
   "source": [
    "**3. Explain how in a group project (which we are not doing) github could help manage collaboration.**\n",
    "\n",
    "<font color = pink> In a group project github will manage collaboration becuase people can access your files through the repository and suggest changes if neccesary by using differnt branches. "
   ]
  }
 ],
 "metadata": {
  "language_info": {
   "name": "python"
  }
 },
 "nbformat": 4,
 "nbformat_minor": 2
}
